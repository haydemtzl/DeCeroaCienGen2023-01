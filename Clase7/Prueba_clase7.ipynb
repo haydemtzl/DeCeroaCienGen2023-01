{
 "cells": [
  {
   "cell_type": "code",
   "execution_count": 26,
   "id": "655a4326",
   "metadata": {},
   "outputs": [],
   "source": [
    "file = open(\"archivotemp.txt\",\"r\")"
   ]
  },
  {
   "cell_type": "code",
   "execution_count": 27,
   "id": "f33f9257",
   "metadata": {},
   "outputs": [
    {
     "data": {
      "text/plain": [
       "False"
      ]
     },
     "execution_count": 27,
     "metadata": {},
     "output_type": "execute_result"
    }
   ],
   "source": [
    "file.writable()"
   ]
  },
  {
   "cell_type": "code",
   "execution_count": 28,
   "id": "cef551b2",
   "metadata": {},
   "outputs": [
    {
     "data": {
      "text/plain": [
       "True"
      ]
     },
     "execution_count": 28,
     "metadata": {},
     "output_type": "execute_result"
    }
   ],
   "source": [
    "file.readable()"
   ]
  },
  {
   "cell_type": "code",
   "execution_count": 29,
   "id": "549489dd",
   "metadata": {},
   "outputs": [
    {
     "data": {
      "text/plain": [
       "True"
      ]
     },
     "execution_count": 29,
     "metadata": {},
     "output_type": "execute_result"
    }
   ],
   "source": [
    "file.seekable()"
   ]
  },
  {
   "cell_type": "code",
   "execution_count": 30,
   "id": "4ce6791c",
   "metadata": {},
   "outputs": [
    {
     "data": {
      "text/plain": [
       "'Hola\\nEstoy escribiendo en diferentes renglones\\nPara mostrar el ejemplo\\n'"
      ]
     },
     "execution_count": 30,
     "metadata": {},
     "output_type": "execute_result"
    }
   ],
   "source": [
    "file.read()"
   ]
  },
  {
   "cell_type": "code",
   "execution_count": 31,
   "id": "95e059b7",
   "metadata": {},
   "outputs": [
    {
     "data": {
      "text/plain": [
       "''"
      ]
     },
     "execution_count": 31,
     "metadata": {},
     "output_type": "execute_result"
    }
   ],
   "source": [
    "file.read()"
   ]
  },
  {
   "cell_type": "code",
   "execution_count": 32,
   "id": "d290f71f",
   "metadata": {},
   "outputs": [
    {
     "data": {
      "text/plain": [
       "71"
      ]
     },
     "execution_count": 32,
     "metadata": {},
     "output_type": "execute_result"
    }
   ],
   "source": [
    "file.tell()"
   ]
  },
  {
   "cell_type": "code",
   "execution_count": 33,
   "id": "8d935b2b",
   "metadata": {},
   "outputs": [
    {
     "data": {
      "text/plain": [
       "0"
      ]
     },
     "execution_count": 33,
     "metadata": {},
     "output_type": "execute_result"
    }
   ],
   "source": [
    "file.seek(0)"
   ]
  },
  {
   "cell_type": "code",
   "execution_count": 34,
   "id": "e20db34c",
   "metadata": {},
   "outputs": [
    {
     "data": {
      "text/plain": [
       "'Hola\\n'"
      ]
     },
     "execution_count": 34,
     "metadata": {},
     "output_type": "execute_result"
    }
   ],
   "source": [
    "file.read(5)"
   ]
  },
  {
   "cell_type": "code",
   "execution_count": 18,
   "id": "c3088cb1",
   "metadata": {},
   "outputs": [],
   "source": [
    "#Para escribir en un archivo en modo escritura lo haría así\n",
    "# file.write(\"hola\")"
   ]
  },
  {
   "cell_type": "code",
   "execution_count": 35,
   "id": "291ef9b7",
   "metadata": {},
   "outputs": [],
   "source": [
    "file.close()"
   ]
  },
  {
   "cell_type": "code",
   "execution_count": 37,
   "id": "7562644c",
   "metadata": {},
   "outputs": [],
   "source": [
    "prueba = open(\"prueba.txt\",\"w\")"
   ]
  },
  {
   "cell_type": "code",
   "execution_count": 38,
   "id": "2258fa31",
   "metadata": {},
   "outputs": [
    {
     "data": {
      "text/plain": [
       "10"
      ]
     },
     "execution_count": 38,
     "metadata": {},
     "output_type": "execute_result"
    }
   ],
   "source": [
    "prueba.write(\"Hola mundo\")"
   ]
  },
  {
   "cell_type": "code",
   "execution_count": 39,
   "id": "29eee82d",
   "metadata": {},
   "outputs": [
    {
     "data": {
      "text/plain": [
       "True"
      ]
     },
     "execution_count": 39,
     "metadata": {},
     "output_type": "execute_result"
    }
   ],
   "source": [
    "prueba.seekable()"
   ]
  },
  {
   "cell_type": "code",
   "execution_count": 40,
   "id": "3a960658",
   "metadata": {},
   "outputs": [
    {
     "data": {
      "text/plain": [
       "10"
      ]
     },
     "execution_count": 40,
     "metadata": {},
     "output_type": "execute_result"
    }
   ],
   "source": [
    "prueba.tell()"
   ]
  },
  {
   "cell_type": "code",
   "execution_count": 41,
   "id": "6a6468fe",
   "metadata": {},
   "outputs": [],
   "source": [
    "prueba.close()"
   ]
  },
  {
   "cell_type": "code",
   "execution_count": 42,
   "id": "49f69955",
   "metadata": {},
   "outputs": [],
   "source": [
    "pruebal = open(\"prueba.txt\",\"r\")"
   ]
  },
  {
   "cell_type": "code",
   "execution_count": 43,
   "id": "1f08cf4f",
   "metadata": {},
   "outputs": [
    {
     "data": {
      "text/plain": [
       "0"
      ]
     },
     "execution_count": 43,
     "metadata": {},
     "output_type": "execute_result"
    }
   ],
   "source": [
    "pruebal.tell()"
   ]
  },
  {
   "cell_type": "code",
   "execution_count": 44,
   "id": "9b144b98",
   "metadata": {},
   "outputs": [
    {
     "data": {
      "text/plain": [
       "'Hola mundo'"
      ]
     },
     "execution_count": 44,
     "metadata": {},
     "output_type": "execute_result"
    }
   ],
   "source": [
    "pruebal.read()"
   ]
  },
  {
   "cell_type": "code",
   "execution_count": 45,
   "id": "73fbea84",
   "metadata": {},
   "outputs": [],
   "source": [
    "pruebal.close()"
   ]
  },
  {
   "cell_type": "code",
   "execution_count": null,
   "id": "b4c5d4f0",
   "metadata": {},
   "outputs": [],
   "source": []
  }
 ],
 "metadata": {
  "kernelspec": {
   "display_name": "Python 3 (ipykernel)",
   "language": "python",
   "name": "python3"
  },
  "language_info": {
   "codemirror_mode": {
    "name": "ipython",
    "version": 3
   },
   "file_extension": ".py",
   "mimetype": "text/x-python",
   "name": "python",
   "nbconvert_exporter": "python",
   "pygments_lexer": "ipython3",
   "version": "3.7.3"
  }
 },
 "nbformat": 4,
 "nbformat_minor": 5
}
